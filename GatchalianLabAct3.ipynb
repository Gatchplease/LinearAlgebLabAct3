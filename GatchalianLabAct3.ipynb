{
  "nbformat": 4,
  "nbformat_minor": 0,
  "metadata": {
    "colab": {
      "name": "Untitled1.ipynb",
      "provenance": []
    },
    "kernelspec": {
      "name": "python3",
      "display_name": "Python 3"
    }
  },
  "cells": [
    {
      "cell_type": "markdown",
      "metadata": {
        "id": "QMcwvMf1wUkc"
      },
      "source": [
        "$$ G = 2\\hat{x} + 4\\hat{y} \\\\\r\n",
        "A = 3\\hat{x} - 2\\hat{y}\\\\ \r\n",
        "T = 5\\hat{x} + 8\\hat{y} \\\\\r\n",
        "C = 6\\hat{x} - 3\\hat{y}\\\\\r\n",
        "H = 7\\hat{x} + 4\\hat{y}$$\r\n",
        "\r\n",
        "$$G = \\begin{bmatrix} 4\\\\ 4\\end{bmatrix},\r\n",
        "A = \\begin{bmatrix} 6\\\\ -4\\end{bmatrix},\r\n",
        "T = \\begin{bmatrix} 1\\\\ -3\\end{bmatrix},\r\n",
        "C = \\begin{bmatrix} 5\\\\ -2\\end{bmatrix},\r\n",
        "H = \\begin{bmatrix} 7\\\\ 1\\end{bmatrix}\\\\ $$"
      ]
    },
    {
      "cell_type": "code",
      "metadata": {
        "id": "xYS1H95Hh2Xx"
      },
      "source": [
        "import numpy as np\r\n",
        "import matplotlib.pyplot as plt"
      ],
      "execution_count": 1,
      "outputs": []
    },
    {
      "cell_type": "code",
      "metadata": {
        "colab": {
          "base_uri": "https://localhost:8080/"
        },
        "id": "-IMhatfKoKVv",
        "outputId": "49cebd04-6635-4fb2-fa81-33fa2967f2d7"
      },
      "source": [
        "G = np.array([4,4])\r\n",
        "A = np.array([6,-4])\r\n",
        "T = np.array([1,-3])\r\n",
        "C = np.array([5,-2])\r\n",
        "H = np.array([7,1])\r\n",
        "print (G, A, T, C, H)"
      ],
      "execution_count": 2,
      "outputs": [
        {
          "output_type": "stream",
          "text": [
            "[4 4] [ 6 -4] [ 1 -3] [ 5 -2] [7 1]\n"
          ],
          "name": "stdout"
        }
      ]
    },
    {
      "cell_type": "code",
      "metadata": {
        "colab": {
          "base_uri": "https://localhost:8080/"
        },
        "id": "uREE5C0exISu",
        "outputId": "38222663-0c66-4305-df75-62960b51080d"
      },
      "source": [
        "T1 =  G + A + T\r\n",
        "T2 = T + C + H\r\n",
        "T3 = T1 + T2\r\n",
        "print(T3)"
      ],
      "execution_count": 3,
      "outputs": [
        {
          "output_type": "stream",
          "text": [
            "[24 -7]\n"
          ],
          "name": "stdout"
        }
      ]
    },
    {
      "cell_type": "markdown",
      "metadata": {
        "id": "-CmVO4hHzhjn"
      },
      "source": [
        "$$\r\n",
        "T = c\\cdot \\begin{bmatrix} 1\\\\-3 \\\\\\end{bmatrix}\\\\\r\n",
        "C = c\\cdot \\begin{bmatrix} 5\\\\-2 \\\\\\end{bmatrix}\\\\\r\n",
        "H = c\\cdot \\begin{bmatrix} 7\\\\1 \\\\\\end{bmatrix}\\\\ $$\r\n"
      ]
    },
    {
      "cell_type": "code",
      "metadata": {
        "colab": {
          "base_uri": "https://localhost:8080/",
          "height": 269
        },
        "id": "wJ56oqt410SI",
        "outputId": "3c20e40f-f5e7-4b33-b7aa-25961d7727c9"
      },
      "source": [
        "T = np.array([1,-3])\r\n",
        "C = np.array([5,-2])\r\n",
        "H = np.array([7,1])\r\n",
        "\r\n",
        "d = np.arange (-20,20,0.15)\r\n",
        "plt.scatter(d*T[0], d*T[1], color= 'red')\r\n",
        "plt.scatter(d*C[0], d*C[1], color= 'cyan')\r\n",
        "plt.scatter(d*H[0], d*H[1], color= 'green')\r\n",
        "\r\n",
        "plt.xlim(-20,20)\r\n",
        "plt.ylim(-20,20)\r\n",
        "plt.axhline(y=0, color= 'black')\r\n",
        "plt.axvline(x=0, color= 'black')\r\n",
        "plt.grid()\r\n",
        "plt.show()"
      ],
      "execution_count": 14,
      "outputs": [
        {
          "output_type": "display_data",
          "data": {
            "image/png": "[encoded data removed]",
            "text/plain": [
              "<Figure size 432x288 with 1 Axes>"
            ]
          },
          "metadata": {
            "tags": [],
            "needs_background": "light"
          }
        }
      ]
    },
    {
      "cell_type": "markdown",
      "metadata": {
        "id": "auZdmt1N26tm"
      },
      "source": [
        "$$\r\n",
        "S = \\begin{Bmatrix} c_1 \\cdot\\begin{bmatrix} 4\\\\4 \\\\\\end{bmatrix}, \r\n",
        "c_2 \\cdot \\begin{bmatrix} 6\\\\-4 \\\\\\end{bmatrix},\r\n",
        "c_3 \\cdot \\begin{bmatrix} 1\\\\-3 \\\\\\end{bmatrix}\\end{Bmatrix} $$"
      ]
    },
    {
      "cell_type": "code",
      "metadata": {
        "colab": {
          "base_uri": "https://localhost:8080/",
          "height": 269
        },
        "id": "W1TxtpJQ4Qsc",
        "outputId": "8111a242-c18e-4e47-923a-5064ae448d53"
      },
      "source": [
        "G = np.array([4,4])\r\n",
        "A = np.array([6,-4])\r\n",
        "T = np.array([1,-3])\r\n",
        "\r\n",
        "H = np.arange(-10,10,0.75)\r\n",
        "c1, c2, c3= np.meshgrid(H, H, H)\r\n",
        "V = G + A + T\r\n",
        "spanHx = c1*G[0] +c2*A[0] + c3*T[0]\r\n",
        "spanHy = c1*G[1] +c2*A[1] + c3*T[1]\r\n",
        "plt.scatter(spanSx,spanSy,  s=3, alpha= 1, color = 'red')\r\n",
        "\r\n",
        "plt.xlim (-150,150)\r\n",
        "plt.ylim(-150,150)\r\n",
        "plt.axhline(y=0, color='black')\r\n",
        "plt.axvline(x=0, color='black')\r\n",
        "plt.grid()\r\n",
        "plt.show()"
      ],
      "execution_count": 31,
      "outputs": [
        {
          "output_type": "display_data",
          "data": {
            "image/png": "[encoded data removed]",
            "text/plain": [
              "<Figure size 432x288 with 1 Axes>"
            ]
          },
          "metadata": {
            "tags": [],
            "needs_background": "light"
          }
        }
      ]
    },
    {
      "cell_type": "markdown",
      "metadata": {
        "id": "9ke699e_8Gq6"
      },
      "source": [
        "$$\r\n",
        "S = \\begin{Bmatrix} c_1 \\cdot\\begin{bmatrix} -9\\\\6\\\\-2 \\\\\\end{bmatrix}, \r\n",
        "c_2 \\cdot \\begin{bmatrix} -6\\\\-3\\\\-1\\\\\\end{bmatrix},\r\n",
        "c_3 \\cdot \\begin{bmatrix} -8\\\\-6\\\\4\\\\\\end{bmatrix},\r\n",
        "c_4 \\cdot \\begin{bmatrix} -2\\\\-7\\\\-3\\\\\\end{bmatrix}\\end{Bmatrix} $$"
      ]
    },
    {
      "cell_type": "code",
      "metadata": {
        "colab": {
          "base_uri": "https://localhost:8080/",
          "height": 269
        },
        "id": "Hcii8ifj8TzC",
        "outputId": "6de86552-4d44-4e5f-a9eb-f979caeeff53"
      },
      "source": [
        "V1 = np.array([-9,6,-2])\r\n",
        "V2 = np.array([-6,-3,-1])\r\n",
        "V3 = np.array([-8,-6,4])\r\n",
        "V4 = np.array([-2,-7,-3])\r\n",
        "\r\n",
        "S = np.arange(-5,5,0.125)\r\n",
        "c1, c2, c3, c4= np.meshgrid(S, S, S, S)\r\n",
        "T = V2 + V1 + V4 + V3\r\n",
        "spanSx = c1*V1[0] +c2*V2[0] + c3*V3[0] + c4*V4[0]\r\n",
        "spanSy = c1*V1[1] +c2*V2[1] + c3*V3[1] + c4*V4[1]\r\n",
        "plt.scatter(spanSx,spanSy,  s=2, alpha= 0.75, color = 'red')\r\n",
        "\r\n",
        "plt.xlim (-150,150)\r\n",
        "plt.ylim(-150,150)\r\n",
        "plt.axhline(y=0, color='black')\r\n",
        "plt.axvline(x=0, color='black')\r\n",
        "plt.grid()\r\n",
        "plt.show()"
      ],
      "execution_count": 42,
      "outputs": [
        {
          "output_type": "display_data",
          "data": {
            "image/png": "[encoded data removed]",
            "text/plain": [
              "<Figure size 432x288 with 1 Axes>"
            ]
          },
          "metadata": {
            "tags": [],
            "needs_background": "light"
          }
        }
      ]
    }
  ]
}